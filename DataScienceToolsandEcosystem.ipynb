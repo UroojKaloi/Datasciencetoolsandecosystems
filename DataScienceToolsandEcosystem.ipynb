{
 "cells": [
  {
   "cell_type": "markdown",
   "id": "db0b7024",
   "metadata": {},
   "source": [
    "# Data Science Tools and Ecosystem"
   ]
  },
  {
   "cell_type": "markdown",
   "id": "24b709da",
   "metadata": {},
   "source": [
    "In this notebook, Data Science Tools and Ecosystem are summarized."
   ]
  },
  {
   "cell_type": "markdown",
   "id": "66ce61b0",
   "metadata": {},
   "source": [
    "**Objectives:**\n",
    "- Popular languages used in datascience\n",
    "- Common libraries used in datascience\n",
    "- Opensource tools of datascience\n",
    "- Arithematic expressions in python"
   ]
  },
  {
   "cell_type": "markdown",
   "id": "6177a3c8",
   "metadata": {},
   "source": [
    "Some of the popular languages that Data Scientists use are:\n",
    "1. Python\n",
    "2. scala\n",
    "3. R\n",
    "4. SQL"
   ]
  },
  {
   "cell_type": "markdown",
   "id": "b2dd31a3",
   "metadata": {},
   "source": [
    "Some of the commonly used libraries used by Data Scientists include:\n",
    "1. numpy\n",
    "2. seaborn\n",
    "3. matplotlib\n",
    "4. pandas\n"
   ]
  },
  {
   "cell_type": "markdown",
   "id": "ab6b5e4d",
   "metadata": {},
   "source": [
    "\n",
    "| Data Science Tools | \n",
    "| -------------|\n",
    "| Pixie dust |\n",
    "| Mongo Db |\n",
    "| Hadoop | \n",
    "|Apache airflow|"
   ]
  },
  {
   "cell_type": "markdown",
   "id": "3e0ce770",
   "metadata": {},
   "source": [
    "### Below are a few examples of evaluating arithmetic expressions in Python"
   ]
  },
  {
   "cell_type": "code",
   "execution_count": 1,
   "id": "b7a3bc2a",
   "metadata": {},
   "outputs": [
    {
     "data": {
      "text/plain": [
       "17"
      ]
     },
     "execution_count": 1,
     "metadata": {},
     "output_type": "execute_result"
    }
   ],
   "source": [
    "#This a simple arithmetic expression to mutiply then add integers\n",
    "(3*4)+5"
   ]
  },
  {
   "cell_type": "code",
   "execution_count": 2,
   "id": "26543ae9",
   "metadata": {},
   "outputs": [
    {
     "data": {
      "text/plain": [
       "33.333333333333336"
      ]
     },
     "execution_count": 2,
     "metadata": {},
     "output_type": "execute_result"
    }
   ],
   "source": [
    "#This will convert 200 minutes to hours by diving by 60\n",
    "200/6"
   ]
  },
  {
   "cell_type": "markdown",
   "id": "8032d44d",
   "metadata": {},
   "source": [
    "## Author:\n",
    "Urooj"
   ]
  }
 ],
 "metadata": {
  "kernelspec": {
   "display_name": "Python 3",
   "language": "python",
   "name": "python3"
  },
  "language_info": {
   "codemirror_mode": {
    "name": "ipython",
    "version": 3
   },
   "file_extension": ".py",
   "mimetype": "text/x-python",
   "name": "python",
   "nbconvert_exporter": "python",
   "pygments_lexer": "ipython3",
   "version": "3.12.4"
  }
 },
 "nbformat": 4,
 "nbformat_minor": 5
}
